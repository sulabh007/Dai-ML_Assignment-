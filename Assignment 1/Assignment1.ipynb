{
 "cells": [
  {
   "cell_type": "code",
   "execution_count": 143,
   "metadata": {},
   "outputs": [],
   "source": [
    "import pandas as pd\n",
    "import numpy as np\n",
    "from sklearn.model_selection import train_test_split"
   ]
  },
  {
   "cell_type": "code",
   "execution_count": 144,
   "metadata": {},
   "outputs": [],
   "source": [
    "from sklearn.linear_model import Ridge\n",
    "from sklearn.linear_model import Lasso\n",
    "from sklearn.linear_model import ElasticNet\n",
    "from sklearn.model_selection import KFold, GridSearchCV\n",
    "from sklearn.preprocessing import StandardScaler, MinMaxScaler\n",
    "from sklearn.pipeline import Pipeline\n",
    "# import warnings\n",
    "# warnings.filterwarnings(\"ignore\")\n"
   ]
  },
  {
   "cell_type": "code",
   "execution_count": 145,
   "metadata": {},
   "outputs": [],
   "source": [
    "df= pd.read_excel('ENB2012_data.xlsx')\n",
    "x= df.drop(columns=['Y1', 'Y2'], axis=1)\n",
    "y1= df['Y1']\n",
    "y2= df['Y2']\n"
   ]
  },
  {
   "cell_type": "code",
   "execution_count": 146,
   "metadata": {},
   "outputs": [],
   "source": [
    "# x2_train, x2_test, y2_train, y2_test= train_test_split(x,y2, test_size=0.3, random_state=23)\n",
    "# x1_train, x1_test, y1_train, y1_test= train_test_split(x,y1, test_size=0.3, random_state=23)\n",
    "kfold= KFold(n_splits=5, shuffle=True, random_state=23)"
   ]
  },
  {
   "cell_type": "markdown",
   "metadata": {},
   "source": [
    "Pipelines"
   ]
  },
  {
   "cell_type": "markdown",
   "metadata": {},
   "source": [
    "<h1>Ridge</h1>"
   ]
  },
  {
   "cell_type": "markdown",
   "metadata": {},
   "source": [
    "Y1"
   ]
  },
  {
   "cell_type": "code",
   "execution_count": 147,
   "metadata": {},
   "outputs": [
    {
     "name": "stdout",
     "output_type": "stream",
     "text": [
      "{'alpha': 0.001, 'solver': 'svd'}\n",
      "0.9143218854493969\n"
     ]
    }
   ],
   "source": [
    "alpha = np.linspace(0.001,4,20)\n",
    "solver=['sparse_cg', 'svd', 'cholesky', 'auto', 'lsqr', 'lbfgs', 'sag', 'saga']\n",
    "params= {'alpha':alpha,'solver':solver}\n",
    "\n",
    "ridge= Ridge()\n",
    "gcv= GridSearchCV(ridge, param_grid=params, cv=kfold)\n",
    "\n",
    "gcv.fit(x,y1)\n",
    "\n",
    "print(gcv.best_params_)\n",
    "print(gcv.best_score_)"
   ]
  },
  {
   "cell_type": "markdown",
   "metadata": {},
   "source": [
    "Y2"
   ]
  },
  {
   "cell_type": "code",
   "execution_count": 148,
   "metadata": {},
   "outputs": [
    {
     "name": "stdout",
     "output_type": "stream",
     "text": [
      "{'alpha': 0.001, 'solver': 'svd'}\n",
      "0.8851737878214685\n",
      "<bound method BaseEstimator.get_params of GridSearchCV(cv=KFold(n_splits=5, random_state=23, shuffle=True),\n",
      "             estimator=Ridge(),\n",
      "             param_grid={'alpha': array([1.00000000e-03, 2.11473684e-01, 4.21947368e-01, 6.32421053e-01,\n",
      "       8.42894737e-01, 1.05336842e+00, 1.26384211e+00, 1.47431579e+00,\n",
      "       1.68478947e+00, 1.89526316e+00, 2.10573684e+00, 2.31621053e+00,\n",
      "       2.52668421e+00, 2.73715789e+00, 2.94763158e+00, 3.15810526e+00,\n",
      "       3.36857895e+00, 3.57905263e+00, 3.78952632e+00, 4.00000000e+00]),\n",
      "                         'solver': ['sparse_cg', 'svd', 'cholesky', 'auto',\n",
      "                                    'lsqr', 'lbfgs', 'sag', 'saga']})>\n"
     ]
    }
   ],
   "source": [
    "\n",
    "gcv= GridSearchCV(ridge, param_grid=params, cv=kfold)\n",
    "\n",
    "gcv.fit(x,y2)\n",
    "\n",
    "print(gcv.best_params_)\n",
    "print(gcv.best_score_)"
   ]
  },
  {
   "cell_type": "markdown",
   "metadata": {},
   "source": [
    "<h1>Lasso</h1>"
   ]
  },
  {
   "cell_type": "markdown",
   "metadata": {},
   "source": [
    "Y1"
   ]
  },
  {
   "cell_type": "code",
   "execution_count": 149,
   "metadata": {},
   "outputs": [
    {
     "name": "stdout",
     "output_type": "stream",
     "text": [
      "{'alpha': 0.001}\n",
      "0.9142338891739709\n",
      "<bound method BaseEstimator.get_params of GridSearchCV(cv=KFold(n_splits=5, random_state=23, shuffle=True),\n",
      "             estimator=Lasso(),\n",
      "             param_grid={'alpha': array([1.00000000e-03, 2.11473684e-01, 4.21947368e-01, 6.32421053e-01,\n",
      "       8.42894737e-01, 1.05336842e+00, 1.26384211e+00, 1.47431579e+00,\n",
      "       1.68478947e+00, 1.89526316e+00, 2.10573684e+00, 2.31621053e+00,\n",
      "       2.52668421e+00, 2.73715789e+00, 2.94763158e+00, 3.15810526e+00,\n",
      "       3.36857895e+00, 3.57905263e+00, 3.78952632e+00, 4.00000000e+00])})>\n"
     ]
    }
   ],
   "source": [
    "alpha = np.linspace(0.001,4,20)\n",
    "params= {'alpha':alpha}\n",
    "\n",
    "lasso= Lasso()\n",
    "\n",
    "gcv= GridSearchCV(lasso, param_grid=params, cv=kfold)\n",
    "\n",
    "gcv.fit(x,y1)\n",
    "\n",
    "print(gcv.best_params_)\n",
    "print(gcv.best_score_)"
   ]
  },
  {
   "cell_type": "code",
   "execution_count": 158,
   "metadata": {},
   "outputs": [
    {
     "name": "stdout",
     "output_type": "stream",
     "text": [
      "{'alpha': 1.0, 'copy_X': True, 'fit_intercept': True, 'max_iter': 1000, 'positive': False, 'precompute': False, 'random_state': None, 'selection': 'cyclic', 'tol': 0.0001, 'warm_start': False}\n"
     ]
    }
   ],
   "source": [
    "print(lasso.get_params())"
   ]
  },
  {
   "cell_type": "markdown",
   "metadata": {},
   "source": [
    "Y2"
   ]
  },
  {
   "cell_type": "code",
   "execution_count": 150,
   "metadata": {},
   "outputs": [
    {
     "name": "stdout",
     "output_type": "stream",
     "text": [
      "{'alpha': 0.001}\n",
      "0.8850732625799566\n"
     ]
    }
   ],
   "source": [
    "gcv= GridSearchCV(lasso, param_grid=params, cv=kfold)\n",
    "\n",
    "gcv.fit(x,y2)\n",
    "\n",
    "print(gcv.best_params_)\n",
    "print(gcv.best_score_)"
   ]
  },
  {
   "cell_type": "markdown",
   "metadata": {},
   "source": [
    "<h1>Elastic</h1>"
   ]
  },
  {
   "cell_type": "markdown",
   "metadata": {},
   "source": [
    "y1"
   ]
  },
  {
   "cell_type": "code",
   "execution_count": 151,
   "metadata": {},
   "outputs": [
    {
     "name": "stdout",
     "output_type": "stream",
     "text": [
      "{'alpha': 0.001, 'l1_ratio': 0.999}\n",
      "0.9142241849778937\n",
      "<bound method BaseEstimator.get_params of GridSearchCV(cv=KFold(n_splits=5, random_state=23, shuffle=True),\n",
      "             estimator=ElasticNet(),\n",
      "             param_grid={'alpha': array([1.00000000e-03, 2.11473684e-01, 4.21947368e-01, 6.32421053e-01,\n",
      "       8.42894737e-01, 1.05336842e+00, 1.26384211e+00, 1.47431579e+00,\n",
      "       1.68478947e+00, 1.89526316e+00, 2.10573684e+00, 2.31621053e+00,\n",
      "       2.52668421e+00, 2.73715789e+00, 2.94763158e+00, 3.15810526e+00,\n",
      "       3.36857895e+00, 3.57905263e+00, 3.78952632e+00, 4.00000000e+00]),\n",
      "                         'l1_ratio': array([0.001     , 0.05352632, 0.10605263, 0.15857895, 0.21110526,\n",
      "       0.26363158, 0.31615789, 0.36868421, 0.42121053, 0.47373684,\n",
      "       0.52626316, 0.57878947, 0.63131579, 0.68384211, 0.73636842,\n",
      "       0.78889474, 0.84142105, 0.89394737, 0.94647368, 0.999     ])})>\n"
     ]
    }
   ],
   "source": [
    "alpha = np.linspace(0.001,4,20)\n",
    "l1_rat = np.linspace(0.001,0.999,20)\n",
    "\n",
    "elastic= ElasticNet()\n",
    "params= {'alpha':alpha,'l1_ratio':l1_rat}\n",
    "gcv= GridSearchCV(elastic, param_grid=params, cv=kfold)\n",
    "\n",
    "gcv.fit(x,y1)\n",
    "\n",
    "print(gcv.best_params_)\n",
    "print(gcv.best_score_)"
   ]
  },
  {
   "cell_type": "code",
   "execution_count": 152,
   "metadata": {},
   "outputs": [
    {
     "name": "stdout",
     "output_type": "stream",
     "text": [
      "{'alpha': 0.001, 'l1_ratio': 0.999}\n",
      "0.8850607414530993\n"
     ]
    }
   ],
   "source": [
    "gcv= GridSearchCV(elastic, param_grid=params, cv=kfold)\n",
    "\n",
    "gcv.fit(x,y2)\n",
    "\n",
    "print(gcv.best_params_)\n",
    "print(gcv.best_score_)"
   ]
  },
  {
   "cell_type": "markdown",
   "metadata": {},
   "source": [
    "<h1>KNN</h1>"
   ]
  },
  {
   "cell_type": "code",
   "execution_count": 153,
   "metadata": {},
   "outputs": [],
   "source": [
    "from sklearn.neighbors import KNeighborsRegressor"
   ]
  },
  {
   "cell_type": "code",
   "execution_count": 154,
   "metadata": {},
   "outputs": [],
   "source": [
    "knn_pipeline=  Pipeline([(( \"SCL\" , StandardScaler())),('KNN',KNeighborsRegressor())])\n",
    "\n",
    "params= {'KNN__n_neighbors': np.arange(1,11),\n",
    "          'SCL':[StandardScaler(),MinMaxScaler()]}\n",
    "\n",
    "\n"
   ]
  },
  {
   "cell_type": "markdown",
   "metadata": {},
   "source": [
    "y1"
   ]
  },
  {
   "cell_type": "code",
   "execution_count": 160,
   "metadata": {},
   "outputs": [
    {
     "name": "stdout",
     "output_type": "stream",
     "text": [
      "{'KNN__n_neighbors': 1, 'SCL': StandardScaler()}\n",
      "0.9584912431435416\n"
     ]
    }
   ],
   "source": [
    "gcv = GridSearchCV(knn_pipeline, param_grid=params,\n",
    "                   cv=kfold)\n",
    "gcv.fit(x, y1)\n",
    "print(gcv.best_params_)\n",
    "print(gcv.best_score_)"
   ]
  },
  {
   "cell_type": "markdown",
   "metadata": {},
   "source": [
    "y2"
   ]
  },
  {
   "cell_type": "code",
   "execution_count": 156,
   "metadata": {},
   "outputs": [
    {
     "name": "stdout",
     "output_type": "stream",
     "text": [
      "{'KNN__n_neighbors': 4, 'SCL': StandardScaler()}\n",
      "0.9341152063790255\n"
     ]
    }
   ],
   "source": [
    "gcv = GridSearchCV(knn_pipeline, param_grid=params,\n",
    "                   cv=kfold)\n",
    "gcv.fit(x, y2)\n",
    "print(gcv.best_params_)\n",
    "print(gcv.best_score_)"
   ]
  }
 ],
 "metadata": {
  "kernelspec": {
   "display_name": "base",
   "language": "python",
   "name": "python3"
  },
  "language_info": {
   "codemirror_mode": {
    "name": "ipython",
    "version": 3
   },
   "file_extension": ".py",
   "mimetype": "text/x-python",
   "name": "python",
   "nbconvert_exporter": "python",
   "pygments_lexer": "ipython3",
   "version": "3.11.4"
  },
  "orig_nbformat": 4
 },
 "nbformat": 4,
 "nbformat_minor": 2
}
