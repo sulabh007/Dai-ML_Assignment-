{
 "cells": [
  {
   "cell_type": "code",
   "execution_count": 1,
   "metadata": {},
   "outputs": [],
   "source": [
    "import pandas as pd\n",
    "import numpy as np"
   ]
  },
  {
   "cell_type": "code",
   "execution_count": 2,
   "metadata": {},
   "outputs": [],
   "source": [
    "from sklearn.svm import SVC\n",
    "from sklearn.model_selection import train_test_split\n",
    "from sklearn.model_selection import StratifiedKFold, GridSearchCV\n",
    "from sklearn.model_selection import KFold, GridSearchCV\n",
    "from sklearn.preprocessing import LabelEncoder\n",
    "from sklearn.metrics import accuracy_score, log_loss\n",
    "from sklearn.preprocessing import StandardScaler, MinMaxScaler\n",
    "from sklearn.pipeline import Pipeline \n",
    "# import warnings\n",
    "# warnings.filterwarnings(\"ignore\")"
   ]
  },
  {
   "cell_type": "code",
   "execution_count": 3,
   "metadata": {},
   "outputs": [],
   "source": [
    "df= pd.read_csv('Vehicle.csv')\n",
    "lbl = LabelEncoder()\n",
    "df['Class'] = lbl.fit_transform(df['Class'])\n",
    "X = df.drop('Class', axis=1)\n",
    "y = df['Class']"
   ]
  },
  {
   "cell_type": "code",
   "execution_count": 4,
   "metadata": {},
   "outputs": [],
   "source": [
    "X_train, X_test, y_train, y_test = train_test_split(X, y, \n",
    "                                                    test_size=0.3,\n",
    "                                                    random_state=23,\n",
    "                                                    stratify=y)\n",
    "kfold = StratifiedKFold(n_splits=5, shuffle=True,\n",
    "                        random_state=23)"
   ]
  },
  {
   "cell_type": "markdown",
   "metadata": {},
   "source": [
    "linear without scaling"
   ]
  },
  {
   "cell_type": "code",
   "execution_count": 5,
   "metadata": {},
   "outputs": [
    {
     "name": "stdout",
     "output_type": "stream",
     "text": [
      "{'C': 0.5564444444444444, 'decision_function_shape': 'ovo'}\n",
      "-0.4411668203366073\n"
     ]
    }
   ],
   "source": [
    "svm = SVC(kernel='linear', probability=True, random_state=23)\n",
    "\n",
    "decision_function_shape = ['ovo', 'ovr']\n",
    "params = {'C':np.linspace(0.001,5,10),\n",
    "          'decision_function_shape':decision_function_shape}\n",
    "gcv = GridSearchCV(svm, param_grid=params, \n",
    "                   cv=kfold, n_jobs=4, scoring='neg_log_loss')\n",
    "gcv.fit(X,y)\n",
    "print(gcv.best_params_)\n",
    "print(gcv.best_score_)"
   ]
  },
  {
   "cell_type": "markdown",
   "metadata": {},
   "source": [
    "rbf without scaling"
   ]
  },
  {
   "cell_type": "code",
   "execution_count": 6,
   "metadata": {},
   "outputs": [
    {
     "name": "stdout",
     "output_type": "stream",
     "text": [
      "{'C': 5.0, 'decision_function_shape': 'ovo'}\n",
      "-0.8213854540403659\n"
     ]
    }
   ],
   "source": [
    "svm = SVC(kernel='rbf', probability=True, random_state=23)\n",
    "\n",
    "params = {'C':np.linspace(0.001,5,10),\n",
    "          'decision_function_shape':['ovo', 'ovr']}\n",
    "gcv = GridSearchCV(svm, param_grid=params, \n",
    "                   cv=kfold, n_jobs=4, scoring='neg_log_loss')\n",
    "gcv.fit(X,y)\n",
    "print(gcv.best_params_)\n",
    "print(gcv.best_score_)"
   ]
  },
  {
   "cell_type": "markdown",
   "metadata": {},
   "source": [
    "linear with scaling"
   ]
  },
  {
   "cell_type": "code",
   "execution_count": 7,
   "metadata": {},
   "outputs": [
    {
     "name": "stdout",
     "output_type": "stream",
     "text": [
      "{'SCL': StandardScaler(), 'SVM__C': 5.0, 'SVM__decision_function_shape': 'ovo'}\n",
      "-0.4197001959820602\n"
     ]
    }
   ],
   "source": [
    "scaler = StandardScaler()\n",
    "\n",
    "svm = SVC(kernel='linear',\n",
    "          probability=True, random_state=23)\n",
    "pipe = Pipeline([('SCL', scaler),('SVM', svm)])\n",
    "params = {'SCL':[MinMaxScaler(),StandardScaler()],\n",
    "          'SVM__C': np.linspace(0.001, 5, 10),\n",
    "          'SVM__decision_function_shape':['ovo','ovr']}\n",
    "gcv = GridSearchCV(pipe, param_grid=params,n_jobs=4,\n",
    "                   cv=kfold, scoring='neg_log_loss')\n",
    "gcv.fit(X, y)\n",
    "print(gcv.best_params_)\n",
    "print(gcv.best_score_)"
   ]
  },
  {
   "cell_type": "markdown",
   "metadata": {},
   "source": [
    "rbf with Scaling"
   ]
  },
  {
   "cell_type": "code",
   "execution_count": 8,
   "metadata": {},
   "outputs": [
    {
     "name": "stdout",
     "output_type": "stream",
     "text": [
      "{'C': 5.0, 'decision_function_shape': 'ovo'}\n",
      "-0.8213854540403659\n"
     ]
    }
   ],
   "source": [
    "svm = SVC(kernel='rbf', probability=True, random_state=23)\n",
    "kernel = ['rbf']\n",
    "decision_function_shape = ['ovo', 'ovr']\n",
    "params = {'C':np.linspace(0.001,5,10),'decision_function_shape':decision_function_shape}\n",
    "gcv = GridSearchCV(svm, param_grid=params, \n",
    "                   cv=kfold, n_jobs=4, scoring='neg_log_loss')\n",
    "gcv.fit(X,y)\n",
    "print(gcv.best_params_)\n",
    "print(gcv.best_score_)"
   ]
  }
 ],
 "metadata": {
  "kernelspec": {
   "display_name": "base",
   "language": "python",
   "name": "python3"
  },
  "language_info": {
   "codemirror_mode": {
    "name": "ipython",
    "version": 3
   },
   "file_extension": ".py",
   "mimetype": "text/x-python",
   "name": "python",
   "nbconvert_exporter": "python",
   "pygments_lexer": "ipython3",
   "version": "3.11.4"
  },
  "orig_nbformat": 4
 },
 "nbformat": 4,
 "nbformat_minor": 2
}
